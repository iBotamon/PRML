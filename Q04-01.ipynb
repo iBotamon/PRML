{
 "cells": [
  {
   "cell_type": "markdown",
   "metadata": {},
   "source": [
    "# Q4-1. 一般化線形モデルにおける識別関数(1)"
   ]
  },
  {
   "cell_type": "markdown",
   "metadata": {},
   "source": [
    "## 前置き"
   ]
  },
  {
   "cell_type": "markdown",
   "metadata": {},
   "source": [
    "分類問題では線形モデルを活性化関数 $f$ を用いて変換する(これを一般線形モデルとよぶ):\n",
    "\n",
    "$$\n",
    "\\mathbf{y}(\\mathbf{x})=f(\\mathbf{w}^{T}\\mathbf{x}+w_{0})\n",
    "$$\n",
    "\n",
    ">もはや $x_{1},...,x_{D},w_{0},...,w_{D}$ のいずれに対しても出力は線形とはならない."
   ]
  },
  {
   "cell_type": "markdown",
   "metadata": {},
   "source": [
    "第1のアプローチとして識別関数を用いることを考えよう.\n",
    "\n",
    "もっとも簡単な識別関数は\n",
    "\n",
    "$$\n",
    "y(\\mathbf{x})=\\mathbf{w}^{T}\\mathbf{x}+w_{0}\n",
    "$$\n",
    "\n",
    "とおいて $y\\ge 0$ ならば $C_{1},$ $y<0$ ならば $C_{2}$ に分類するというものである.\n",
    "\n",
    ">このとき決定境界は $y(\\mathbf{x})=0$ で与えられる."
   ]
  },
  {
   "cell_type": "markdown",
   "metadata": {},
   "source": [
    "$\\mathbf{w}^{T}$は決定境界面に直交する.\n",
    "\n",
    ">なぜならば, $\\mathbf{x}_{A}, \\mathbf{x}_{B} \\in y(\\mathbf{x})=0$ なる $\\mathbf{x}_{A}, \\mathbf{x}_{B}$ をとるとき\n",
    "$$\n",
    "y(\\mathbf{x}_{A}) - y(\\mathbf{x}_{B}) = 0\n",
    "$$\n",
    "であることより\n",
    "$$\n",
    "\\mathbf{w}^{T}(\\mathbf{x}_{A}-\\mathbf{x}_{B})=0\n",
    "$$\n",
    "であるから $\\mathbf{w}^{T}$は$\\mathbf{x}_{A}-\\mathbf{x}_{B}$に直交するため."
   ]
  },
  {
   "cell_type": "markdown",
   "metadata": {},
   "source": [
    "また, 原点から決定境界までの距離は $\\displaystyle\\frac{w_{0}}{\\mathbf{w}}$ で与えられる."
   ]
  },
  {
   "cell_type": "markdown",
   "metadata": {},
   "source": [
    "これを $K$クラス分類に拡張するには, $k=1,...,K$ に対して\n",
    "\n",
    "$$\n",
    "y_{k}(\\mathbf{x})=f(\\mathbf{w}_{k}^{T}\\mathbf{x}+w_{k0})\n",
    "$$\n",
    "\n",
    "とおき, $i=\\mathrm{argmax}_{k}\\:y_{k}(\\mathbf{x})$のとき $\\mathbf{x}\\in C_{i}$ と分類すればよい.\n",
    "\n",
    ">このとき $C_{i}$と$C_{j}$ の決定境界は $(\\mathbf{w}_{i}-\\mathbf{w}_{j})^{T}\\mathbf{x}+(w_{i0}-w_{j0})=0$ で与えられる.\n",
    "\n",
    ">これ以外の, 1対他分類器を $K-1$ 個利用する方法や, 1対1分類器を $\\displaystyle\\frac{K(K-1)}{2}$ 個利用する方法では, どのクラスにも分類されない出力が存在してしまう."
   ]
  },
  {
   "cell_type": "markdown",
   "metadata": {},
   "source": [
    "このような $K$クラス分類器の各々の決定領域は凸領域となる.\n",
    "> 一般に2点 $P,Q\\in A$ に対し, 線分$PQ$上の任意の点もまた$A$に属するならば$A$は凸領域である."
   ]
  },
  {
   "cell_type": "markdown",
   "metadata": {},
   "source": [
    "## 本題"
   ]
  },
  {
   "cell_type": "markdown",
   "metadata": {},
   "source": [
    "　2つのデータセット $X=\\{\\mathbf{x}_{1},...,\\mathbf{x}_{N}\\},\\;Y=\\{\\mathbf{y}_{1},...,\\mathbf{y}_{N}\\}$ を考えよう."
   ]
  },
  {
   "cell_type": "markdown",
   "metadata": {},
   "source": [
    "　$X,Y$の凸包はそれぞれ\n",
    "$$\n",
    "X_{\\mathrm{convex}} = \\biggl\\{\\sum_{n=1}^{N}\\alpha_{n}\\mathbf{x}_{n} \\:\\biggl|\\:\\alpha_{n}\\ge 0, \\sum_{n=1}^{N}\\alpha_{n}=1 \\biggr\\} \\\\\n",
    "Y_{\\mathrm{convex}} = \\biggl\\{\\sum_{n=1}^{N}\\beta_{n}\\mathbf{y}_{n} \\:\\biggl|\\:\\beta_{n}\\ge 0, \\sum_{n=1}^{N}\\beta_{n}=1 \\biggr\\}\n",
    "$$\n",
    "で与えられる."
   ]
  },
  {
   "cell_type": "markdown",
   "metadata": {},
   "source": [
    "　$X_{\\mathrm{convex}}$と$Y_{\\mathrm{convex}}$が重なっている状況で, $X,Y$ が線形分離可能であると仮定する.\n",
    "\n",
    "　このとき, どのような $\\mathbf{x}, \\mathbf{y}$ に対しても\n",
    "\n",
    "$$\n",
    "\\begin{cases}\n",
    "\\mathbf{w}^{T}\\mathbf{x}+w_{0}>0\\\\\n",
    "\\mathbf{w}^{T}\\mathbf{y}+w_{0}<0\\\\\n",
    "\\end{cases}\n",
    "$$\n",
    "となる $\\mathbf{w}, w_{0}$ が存在するので, そのような $\\mathbf{w}, w_{0}$ を $\\mathbf{w}^{*}, w_{0}^{*}$ とおく."
   ]
  },
  {
   "cell_type": "markdown",
   "metadata": {},
   "source": [
    "　ところが, $X_{\\mathrm{convex}}$と$Y_{\\mathrm{convex}}$は重なっているので\n",
    "$$\n",
    "\\sum_{n}\\alpha_{n}\\mathbf{x}_{n} = \\sum_{n}\\beta_{n}\\mathbf{y}_{n}\n",
    "$$\n",
    "をみたす $\\{\\alpha_{i}, \\beta_{i}, \\mathbf{x}_{i}, \\mathbf{y}_{i}\\}$ の組が存在する. そのような $\\{\\alpha_{i}, \\beta_{i}, \\mathbf{x}_{i}, \\mathbf{y}_{i}\\}$ を $\\{\\alpha_{i}^{*}, \\beta_{i}^{*}, \\mathbf{x}_{i}^{*}, \\mathbf{y}_{i}^{*}\\}$ とおく."
   ]
  },
  {
   "cell_type": "markdown",
   "metadata": {},
   "source": [
    "　上記の仮定により\n",
    "\n",
    "$$\n",
    "\\begin{align}\n",
    "\\sum_{n=1}^{N}\\alpha_{n}^{*}(\\mathbf{w}^{*T}\\mathbf{x}_{n}^{*}+w_{0}^{*})>0\n",
    "\\end{align}\n",
    "$$\n",
    "\n",
    "が成り立つが,\n",
    "\n",
    "$$\n",
    "\\begin{align}\n",
    "\\sum_{n=1}^{N}\\beta_{n}^{*}(\\mathbf{w}^{*T}\\mathbf{y}_{n}^{*}+w_{0}^{*})>0\n",
    "\\end{align}\n",
    "$$\n",
    "\n",
    "も成り立ち, これはすべての $\\mathbf{y}$ に対して $\\mathbf{w}^{T}\\mathbf{y}+w_{0}<0$ であることと矛盾する."
   ]
  },
  {
   "cell_type": "markdown",
   "metadata": {},
   "source": [
    "　したがって $X_{\\mathrm{convex}}$と$Y_{\\mathrm{convex}}$が重なっている場合は $X,Y$ は線形分離可能ではない."
   ]
  },
  {
   "cell_type": "markdown",
   "metadata": {},
   "source": [
    "　この対偶をとれば $X,Y$ が線形分離可能であるときは $X_{\\mathrm{convex}}$と$Y_{\\mathrm{convex}}$が重ならないこともわかる. ■"
   ]
  }
 ],
 "metadata": {
  "kernelspec": {
   "display_name": "Python 3",
   "language": "python",
   "name": "python3"
  },
  "language_info": {
   "codemirror_mode": {
    "name": "ipython",
    "version": 3
   },
   "file_extension": ".py",
   "mimetype": "text/x-python",
   "name": "python",
   "nbconvert_exporter": "python",
   "pygments_lexer": "ipython3",
   "version": "3.6.4"
  }
 },
 "nbformat": 4,
 "nbformat_minor": 2
}
