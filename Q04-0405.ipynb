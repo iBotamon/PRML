{
 "cells": [
  {
   "cell_type": "markdown",
   "metadata": {},
   "source": [
    "# Q4-4. 一般化線形モデルにおける識別関数(4)"
   ]
  },
  {
   "cell_type": "markdown",
   "metadata": {},
   "source": [
    "## 前置き: フィッシャーの線形判別の準備"
   ]
  },
  {
   "cell_type": "markdown",
   "metadata": {},
   "source": [
    "$D$次元の入力ベクトルをスカラーに射影するとする:\n",
    "\n",
    "$$\n",
    "y=\\mathbf{w}^{T}\\mathbf{x}\n",
    "$$\n",
    "\n",
    "そしてしきい値 $w_{0}$ を設定し, $y\\ge -w_{0}$ ならば $C_{1},$ $y<-w_{0}$ ならば $C_{2}$ に分類するとする.\n",
    "\n",
    ">これは先ほどまでの線形分類器と同義だが, $D$次元から$1$次元への次元削減となることから情報量の損失が大きい."
   ]
  },
  {
   "cell_type": "markdown",
   "metadata": {},
   "source": [
    "最小二乗法ではなく「クラスの分離を最大にする射影」を選択してみよう.\n",
    "\n",
    "$C_{1}$に属する点が$N_{1}$個, $C_{2}$に属する点が$N_{2}$個あるとき, その平均ベクトルは\n",
    "\n",
    "$$\n",
    "\\mathbf{m}_{1} = \\frac{1}{N_{1}}\\sum_{n\\in C_{1}}\\mathbf{x}_{n}\\\\\n",
    "\\mathbf{m}_{2} = \\frac{1}{N_{2}}\\sum_{n\\in C_{2}}\\mathbf{x}_{n}\n",
    "$$\n",
    "\n",
    "となる. まず単純な方法としてクラブの分離度を\n",
    "\n",
    "$$\n",
    "m_{2} - m_{1} = \\mathbf{w}^{T}(\\mathbf{m}_{2}-\\mathbf{m}_{1})\n",
    "$$\n",
    "\n",
    "で定義し, これを最大化させよう. ただし, 上記の値は $\\mathbf{w}$ の大きさを大きくするといくらでも大きくできるから, $\\mathbf{w}$ が単位長であるという制約を加える:\n",
    "\n",
    "$$\n",
    "\\sum_{i}w_{i}^{2} = 1\n",
    "$$"
   ]
  },
  {
   "cell_type": "markdown",
   "metadata": {},
   "source": [
    "## 本題"
   ]
  },
  {
   "cell_type": "markdown",
   "metadata": {},
   "source": [
    "ラグランジュ未定乗数法によって　$m_{2} - m_{1} = \\mathbf{w}^{T}(\\mathbf{m}_{2}-\\mathbf{m}_{1})$ を最大化させよう.\n",
    "\n",
    "$$\n",
    "L(\\mathbf{w}^{T},\\lambda) = \\mathbf{w}^{T}(\\mathbf{m}_{2}-\\mathbf{m}_{1}) + \\lambda\\left(\n",
    "\\sum_{i}w_{i}^{2}-1\\right)\n",
    "$$\n",
    "とおくとき, $\\mathbf{w}, \\lambda$ に関する $L$ の停留点を考えればよい.\n",
    "\n",
    "$$\n",
    "\\begin{align}\n",
    "\\frac{\\partial L}{\\partial\\mathbf{w}} &=\\mathbf{m}_{2}-\\mathbf{m}_{1}+2\\lambda\\mathbf{w},\\\\\n",
    "\\frac{\\partial L}{\\partial\\lambda} &= \\sum_{i}w_{i}^{2}-1\n",
    "\\end{align}\n",
    "$$\n",
    "\n",
    "であり, $\\displaystyle \\frac{\\partial L}{\\partial\\mathbf{w}}=0,\\:\\frac{\\partial L}{\\partial\\lambda}=0$ を解くと\n",
    "$\\displaystyle\\mathbf{w}=\\pm\\frac{\\mathbf{m}_{2}-\\mathbf{m}_{1}}{||\\mathbf{m}_{2}-\\mathbf{m}_{1}||}$ が得られる. したがって $\\mathbf{w}\\propto(\\mathbf{m}_{2}-\\mathbf{m}_{1})$. ■"
   ]
  },
  {
   "cell_type": "markdown",
   "metadata": {},
   "source": [
    "# Q4-5. 一般化線形モデルにおける識別関数(5)"
   ]
  },
  {
   "cell_type": "markdown",
   "metadata": {},
   "source": [
    "## 前置き: フィッシャーの線形判別"
   ]
  },
  {
   "cell_type": "markdown",
   "metadata": {},
   "source": [
    "しかし, Q4-4.の前置きの方法ではクラス間の重複が大きくなることもある.\n",
    "\n",
    "そこでフィッシャーはクラス平均間の分離度を大きく, かつ各クラス内の分離を小さくするような手法を考えた.\n",
    "\n",
    "クラス内分散を\n",
    "\n",
    "$$\n",
    "s_{k}^{2} = \\sum_{n\\in C_{k}}(y_{n}-m_{k})^{2}\n",
    "$$\n",
    "\n",
    "と定義し, フィッシャーの判別規準をクラス間/クラス内分散の比と定義する:\n",
    "\n",
    "$$\n",
    "J(\\mathbf{w})=\\frac{(m_{2} - m_{1})^{2}}{s_{1}^{2}+s_{2}^{2}}\n",
    "$$"
   ]
  },
  {
   "cell_type": "markdown",
   "metadata": {},
   "source": [
    "## 本題"
   ]
  },
  {
   "cell_type": "markdown",
   "metadata": {},
   "source": [
    "ここで, $m_{2} - m_{1} = \\mathbf{w}^{T}(\\mathbf{m}_{2}-\\mathbf{m}_{1})$ であったから\n",
    "\n",
    "$$\n",
    "\\begin{align}\n",
    "(m_{2} - m_{1})^{2} &= (\\mathbf{w}^{T}(\\mathbf{m}_{2}-\\mathbf{m}_{1}))^{2} \\\\\n",
    "&= (\\mathbf{w}^{T}(\\mathbf{m}_{2}-\\mathbf{m}_{1}))(\\mathbf{w}^{T}(\\mathbf{m}_{2}-\\mathbf{m}_{1}))^{T} \\\\\n",
    "&= \\mathbf{w}^{T}(\\mathbf{m}_{2}-\\mathbf{m}_{1})(\\mathbf{m}_{2}-\\mathbf{m}_{1})^{T}\\mathbf{w} \\\\\n",
    "&= \\mathbf{w}^{T}S_{B}\\mathbf{w}\n",
    "\\end{align}\n",
    "$$"
   ]
  },
  {
   "cell_type": "markdown",
   "metadata": {},
   "source": [
    "また,\n",
    "\n",
    "$$\n",
    "\\begin{align}\n",
    "s_{1}^{2}+s_{2}^{2} &= \\sum_{n\\in C_{1}}(y_{n}-m_{1})^{2} + \\sum_{n\\in C_{2}}(y_{n}-m_{2})^{2} \\\\\n",
    "&=\\sum_{n\\in C_{1}}(\\mathbf{w}^{T}\\mathbf{x}_{n}-m_{1})^{2} + \\sum_{n\\in C_{2}}(\\mathbf{w}^{T}\\mathbf{x}_{n}-m_{2})^{2}\\\\\n",
    "&=\\sum_{n\\in C_{1}}\\mathbf{w}^{T}(\\mathbf{x}_{n}-m_{1})(\\mathbf{x}_{n}-m_{1})^{T}\\mathbf{w}\n",
    "+ \\sum_{n\\in C_{2}}\\mathbf{w}^{T}(\\mathbf{x}_{n}-m_{2})(\\mathbf{x}_{n}-m_{2})^{T}\\mathbf{w} \\\\\n",
    "&=\\mathbf{w}^{T}\\biggl\\{\n",
    "\\sum_{n\\in C_{1}}(\\mathbf{x}_{n}-m_{1})(\\mathbf{x}_{n}-m_{1})^{T}\n",
    "\\sum_{n\\in C_{2}}(\\mathbf{x}_{n}-m_{2})(\\mathbf{x}_{n}-m_{2})^{T}\n",
    "\\biggr\\}\n",
    "\\mathbf{w}\\\\\n",
    "&=\\mathbf{w}^{T}S_{W}\\mathbf{w}\n",
    "\\end{align}\n",
    "$$"
   ]
  },
  {
   "cell_type": "markdown",
   "metadata": {},
   "source": [
    "以上より\n",
    "$$\n",
    "J(\\mathbf{w})=\\frac{\\mathbf{w}^{T}S_{B}\\mathbf{w}}{\\mathbf{w}^{T}S_{W}\\mathbf{w}}\n",
    "$$\n",
    "となる.\n",
    "\n",
    "ただし $S_{B}$ はクラス間共分散行列で\n",
    "$$\n",
    "S_{B} = (\\mathbf{m}_{2}-\\mathbf{m}_{1})(\\mathbf{m}_{2}-\\mathbf{m}_{1})^{T},\n",
    "$$\n",
    "\n",
    "$S_{W}$ は総クラス内共分散行列で\n",
    "\n",
    "$$\n",
    "S_{W} = \\sum_{i}\\sum_{n\\in C_{i}}(\\mathbf{x}_{n}-m_{i})(\\mathbf{x}_{n}-m_{i})^{T}\\:\\:\\:■\n",
    "$$"
   ]
  }
 ],
 "metadata": {
  "kernelspec": {
   "display_name": "Python 3",
   "language": "python",
   "name": "python3"
  },
  "language_info": {
   "codemirror_mode": {
    "name": "ipython",
    "version": 3
   },
   "file_extension": ".py",
   "mimetype": "text/x-python",
   "name": "python",
   "nbconvert_exporter": "python",
   "pygments_lexer": "ipython3",
   "version": "3.6.4"
  }
 },
 "nbformat": 4,
 "nbformat_minor": 2
}
