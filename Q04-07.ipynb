{
 "cells": [
  {
   "cell_type": "markdown",
   "metadata": {},
   "source": [
    "# Q4-7. 確率的生成モデル(1)"
   ]
  },
  {
   "cell_type": "markdown",
   "metadata": {},
   "source": [
    "## 前置き: 確率的生成モデルとロジスティックシグモイドとsoftmax"
   ]
  },
  {
   "cell_type": "markdown",
   "metadata": {},
   "source": [
    "一般に, 生成モデルでは事前確率 $p(\\mathbf{x}|C_{k}),\\:\\:p(C_{k})$ を求めておいてから, クラスに対する事後確率を\n",
    "\n",
    "$$\n",
    "\\begin{align}\n",
    "p(C_{k}|\\mathbf{x}) &= \\frac{p(\\mathbf{x}|C_{k})p(C_{k})}{p(\\mathbf{x})}\\\\\n",
    "&=\\frac{p(\\mathbf{x}|C_{k})p(C_{k})}{\\displaystyle\\sum_{j}p(\\mathbf{x}|C_{j})p(C_{j})}\n",
    "\\end{align}\n",
    "$$\n",
    "\n",
    "と求める.\n",
    "\n",
    "2クラス分類の場合, クラス $C_{1}$ の事後確率は\n",
    "\n",
    "$$\n",
    "\\begin{align}\n",
    "p(C_{1}|\\mathbf{x}) &= \\frac{p(\\mathbf{x}|C_{1})p(C_{1})}{p(\\mathbf{x})}\\\\\n",
    "&=\\frac{p(\\mathbf{x}|C_{1})p(C_{1})}{p(\\mathbf{x}|C_{1})p(C_{1})+p(\\mathbf{x}|C_{2})p(C_{2})}\n",
    "\\end{align}\n",
    "$$\n",
    "\n",
    "と書くことができ,\n",
    "\n",
    "$$\n",
    "a = \\ln \\frac{p(\\mathbf{x}|C_{1})p(C_{1})}{p(\\mathbf{x}|C_{2})p(C_{2})}\n",
    "$$\n",
    "\n",
    "とおけばこれは\n",
    "\n",
    "$$\n",
    "\\begin{align}\n",
    "p(C_{1}|\\mathbf{x}) &= \\frac{1}{\\displaystyle 1+\\frac{p(\\mathbf{x}|C_{1})p(C_{1})}{p(\\mathbf{x}|C_{2})p(C_{2})}}\\\\\n",
    "&=\\frac{1}{1+e^{-a}} \\\\\n",
    "&=\\sigma(a)\n",
    "\\end{align}\n",
    "$$\n",
    "\n",
    "となってロジスティックシグモイド関数の形で表現できる."
   ]
  },
  {
   "cell_type": "markdown",
   "metadata": {},
   "source": [
    "多クラス分類の場合, クラス $C_{k}$ の事後確率は\n",
    "\n",
    "$$\n",
    "\\begin{align}\n",
    "p(C_{k}|\\mathbf{x}) &= \\frac{p(\\mathbf{x}|C_{k})p(C_{k})}{p(\\mathbf{x})}\\\\\n",
    "&=\\frac{p(\\mathbf{x}|C_{k})p(C_{k})}{\\displaystyle\\sum_{j}p(\\mathbf{x}|C_{j})p(C_{j})}\n",
    "\\end{align}\n",
    "$$\n",
    "\n",
    "であり,\n",
    "\n",
    "$$\n",
    "a_{k} = \\ln p(\\mathbf{x}|C_{k})p(C_{k})\n",
    "$$\n",
    "\n",
    "とおけば\n",
    "\n",
    "$$\n",
    "\\begin{align}\n",
    "p(C_{k}|\\mathbf{x}) &=\\frac{\\exp(a_{k})}{\\displaystyle\\sum_{j}\\exp(a_{j})} \\\\\n",
    "&= \\mathrm{softmax}(a_{k})\n",
    "\\end{align}\n",
    "$$\n",
    "\n",
    "となってsoftmax関数の形で表現できる."
   ]
  },
  {
   "cell_type": "markdown",
   "metadata": {},
   "source": [
    "## 本題"
   ]
  },
  {
   "cell_type": "markdown",
   "metadata": {},
   "source": [
    "ロジスティックシグモイド関数は\n",
    "\n",
    "$$\n",
    "\\sigma(-a) = \\frac{1}{1+e^{a}} = 1 - \\frac{e^{a}}{1+e^{a}} = 1 - \\frac{1}{1+e^{-a}} = 1 - \\sigma(a) \n",
    "$$\n",
    "\n",
    "つまり\n",
    "$$\n",
    "\\sigma(-a) = 1 - \\sigma(a) \n",
    "$$\n",
    "\n",
    "をみたす. ■"
   ]
  },
  {
   "cell_type": "markdown",
   "metadata": {},
   "source": [
    "また, ロジスティックシグモイドの逆関数はlogit関数として知られ, $y=\\sigma(x)$ のとき\n",
    "\n",
    "$$\n",
    "y = \\frac{1}{1+e^{-x}} \\\\\n",
    "\\frac{1}{y} = 1+e^{-x} \\\\\n",
    "\\frac{1-y}{y} = e^{-x} \\\\\n",
    "x = \\ln\\frac{y}{1-y}\n",
    "$$\n",
    "\n",
    "だから\n",
    "$$\n",
    "\\mathrm{logit}(y) = \\ln\\frac{y}{1-y}\\:\\:\\:■\n",
    "$$"
   ]
  }
 ],
 "metadata": {
  "kernelspec": {
   "display_name": "Python 3",
   "language": "python",
   "name": "python3"
  },
  "language_info": {
   "codemirror_mode": {
    "name": "ipython",
    "version": 3
   },
   "file_extension": ".py",
   "mimetype": "text/x-python",
   "name": "python",
   "nbconvert_exporter": "python",
   "pygments_lexer": "ipython3",
   "version": "3.6.4"
  }
 },
 "nbformat": 4,
 "nbformat_minor": 2
}
