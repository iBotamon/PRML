{
 "cells": [
  {
   "cell_type": "markdown",
   "metadata": {},
   "source": [
    "# Q4-8. 確率的生成モデル(2): 連続値入力"
   ]
  },
  {
   "cell_type": "markdown",
   "metadata": {},
   "source": [
    "## 前置き: 確率的生成モデルによる分類(連続値入力)(1): 準備"
   ]
  },
  {
   "cell_type": "markdown",
   "metadata": {},
   "source": [
    "まず2クラス分類の場合を考えよう.\n",
    "\n",
    "2クラス分類において, 各クラスの条件つき確率密度 $p(\\mathbf{x}|C_{k})$ がガウス分布であると仮定する.\n",
    "\n",
    "さらに, 全クラスが同じ共分散行列を共有していると仮定する.\n",
    "\n",
    "このとき, 入力空間を $D$ 次元とすると\n",
    "\n",
    "$$\n",
    "p(\\mathbf{x}|C_{k}) = \\frac{1}{\\sqrt{(2\\pi)^{D}\\det{\\Sigma}}}\n",
    "\\exp{\\biggl\\{\n",
    "-\\frac{1}{2}\n",
    "(\\mathbf{x}-\\boldsymbol{\\mu}_{k})^{T}\\Sigma^{-1}(\\mathbf{x}-\\boldsymbol{\\mu}_{k})\n",
    "\\biggr\\}}\n",
    "$$\n",
    "\n",
    "である."
   ]
  },
  {
   "cell_type": "markdown",
   "metadata": {},
   "source": [
    "## 本題"
   ]
  },
  {
   "cell_type": "markdown",
   "metadata": {},
   "source": [
    "一般に確率的生成モデルでは, $p(C_{1}|\\mathbf{x})$ は次のように求められた:\n",
    "\n",
    "$$\n",
    "\\begin{align}\n",
    "p(C_{1}|\\mathbb{x}) &= \\frac{1}{\\displaystyle 1+\\frac{p(\\mathbb{x}|C_{1})p(C_{1})}{p(\\mathbb{x}|C_{2})p(C_{2})}}\\\\\n",
    "&=\\frac{1}{1+e^{-a}} \\\\\n",
    "&=\\sigma(a),\\\\\n",
    "\\\\\n",
    "a &= \\ln \\frac{p(\\mathbb{x}|C_{1})p(C_{1})}{p(\\mathbb{x}|C_{2})p(C_{2})}\n",
    "\\end{align}\n",
    "$$\n",
    "\n",
    "ここでは, ロジスティックシグモイドの活性 $a$ は次のように計算できる:\n",
    "\n",
    "$$\n",
    "\\begin{align}\n",
    "a &= \\ln \\frac{p(\\mathbb{x}|C_{1})p(C_{1})}{p(\\mathbb{x}|C_{2})p(C_{2})}\\\\\n",
    "&=\n",
    "\\ln\\frac{\n",
    "\\frac{1}{\\sqrt{(2\\pi)^{D}\\det{\\Sigma}}}\n",
    "\\exp{\\biggl\\{\n",
    "-\\frac{1}{2}\n",
    "(\\mathbf{x}-\\boldsymbol{\\mu}_{1})^{T}\\Sigma^{-1}(\\mathbf{x}-\\boldsymbol{\\mu}_{1})\n",
    "\\biggr\\}}\n",
    "}{\n",
    "\\frac{1}{\\sqrt{(2\\pi)^{D}\\det{\\Sigma}}}\n",
    "\\exp{\\biggl\\{\n",
    "-\\frac{1}{2}\n",
    "(\\mathbf{x}-\\boldsymbol{\\mu}_{2})^{T}\\Sigma^{-1}(\\mathbf{x}-\\boldsymbol{\\mu}_{2})\n",
    "\\biggr\\}}\n",
    "}\n",
    "+\n",
    "\\ln\\frac{p(C_{1})}{p(C_{2})} \\\\\n",
    "&=-\\frac{1}{2}\\left(\n",
    "-\\mathbf{x}^{T}\\Sigma^{-1}\\boldsymbol{\\mu}_{1}\n",
    "+\\mathbf{x}^{T}\\Sigma^{-1}\\boldsymbol{\\mu}_{2}\n",
    "-\\boldsymbol{\\mu}_{1}^{T}\\Sigma^{-1}\\mathbf{x}\n",
    "+\\boldsymbol{\\mu}_{2}^{T}\\Sigma^{-1}\\mathbf{x}\n",
    "+\\boldsymbol{\\mu}_{1}^{T}\\Sigma^{-1}\\boldsymbol{\\mu}_{1}\n",
    "-\\boldsymbol{\\mu}_{2}^{T}\\Sigma^{-1}\\boldsymbol{\\mu}_{2}\n",
    "\\right)\n",
    "\\end{align}\n",
    "$$\n",
    "\n",
    "ここで, $\\mathbf{x}^{T}\\Sigma^{-1}\\boldsymbol{\\mu}_{1},\\:\\mathbf{x}^{T}\\Sigma^{-1}\\boldsymbol{\\mu}_{2},\\;\\boldsymbol{\\mu}^{T}\\Sigma^{-1}\\mathbf{x}_{1},\\:\\boldsymbol{\\mu}^{T}\\Sigma^{-1}\\mathbf{x}_{2}$ はスカラーだから転置をとっても値は変わらず, $\\Sigma$が対称行列であることとあわせて\n",
    "\n",
    "$$\n",
    "\\begin{align}\n",
    "\\mathbf{x}^{T}\\Sigma^{-1}\\boldsymbol{\\mu}_{1} &= (\\Sigma^{-1}\\boldsymbol{\\mu}_{1})^{T}\\mathbf{x},\\\\\n",
    "\\mathbf{x}^{T}\\Sigma^{-1}\\boldsymbol{\\mu}_{2} &= (\\Sigma^{-1}\\boldsymbol{\\mu}_{2})^{T}\\mathbf{x},\\\\\n",
    "\\boldsymbol{\\mu}_{1}^{T}\\Sigma^{-1}\\mathbf{x}_{1} &= (\\Sigma^{-1}\\boldsymbol{\\mu}_{1})^{T}\\mathbf{x},\\\\\n",
    "\\boldsymbol{\\mu}_{2}^{T}\\Sigma^{-1}\\mathbf{x}_{2} &= (\\Sigma^{-1}\\boldsymbol{\\mu}_{2})^{T}\\mathbf{x}\n",
    "\\end{align}\n",
    "$$\n",
    "\n",
    "これを代入すると\n",
    "\n",
    "$$\n",
    "\\begin{align}\n",
    "a &= (\\Sigma^{-1}\\boldsymbol{\\mu}_{1})^{T}\\mathbf{x} - (\\Sigma^{-1}\\boldsymbol{\\mu}_{2})^{T}\\mathbf{x}\n",
    "-\\frac{1}{2}\\left(\n",
    "\\boldsymbol{\\mu}_{1}^{T}\\Sigma^{-1}\\boldsymbol{\\mu}_{1}-\\boldsymbol{\\mu}_{2}^{T}\\Sigma^{-1}\\boldsymbol{\\mu}_{2}\n",
    "\\right)\n",
    "+\n",
    "\\ln \\frac{p(C_{1})}{p(C_{2})}\\\\\n",
    "&= \\Sigma^{-1}(\\boldsymbol{\\mu}_{1}-\\boldsymbol{\\mu}_{2})^{T}\\mathbf{x} - -\\frac{1}{2}\\left(\n",
    "\\boldsymbol{\\mu}_{1}^{T}\\Sigma^{-1}\\boldsymbol{\\mu}_{1}-\\boldsymbol{\\mu}_{2}^{T}\\Sigma^{-1}\\boldsymbol{\\mu}_{2}\n",
    "\\right)\n",
    "+\n",
    "\\ln \\frac{p(C_{1})}{p(C_{2})}\\\\\n",
    "\\end{align}\n",
    "$$\n",
    "\n",
    "となるから,\n",
    "\n",
    "$$\n",
    "\\begin{align}\n",
    "\\mathbf{w} &= \\Sigma^{-1}(\\boldsymbol{\\mu}_{1}-\\boldsymbol{\\mu}_{2}),\\\\\n",
    "w_{0} &= -\\frac{1}{2}\\left(\n",
    "\\boldsymbol{\\mu}_{1}^{T}\\Sigma^{-1}\\boldsymbol{\\mu}_{1}-\\boldsymbol{\\mu}_{2}^{T}\\Sigma^{-1}\\boldsymbol{\\mu}_{2}\n",
    "\\right)\n",
    "+\n",
    "\\ln \\frac{p(C_{1})}{p(C_{2})}\\\\\n",
    "\\end{align}\n",
    "$$\n",
    "\n",
    "とおけば\n",
    "\n",
    "$$\n",
    "p(C_{1}|\\mathbf{x}) = \\sigma(\\mathbf{w}^{T}\\mathbf{x}+w_{0})\n",
    "$$\n",
    "\n",
    "と求められる.\n",
    "\n",
    "決定境界面は \n",
    "\n",
    "$$\n",
    "p(C_{1}|\\mathbf{x}) = \\frac{1}{2}\n",
    "$$\n",
    "\n",
    "つまり\n",
    "\n",
    "$$\n",
    "\\mathbf{w}^{T}\\mathbf{x}+w_{0} = 0\n",
    "$$\n",
    "\n",
    "で与えられ, たしかにこれは $\\mathbf{x}$ について線形となっている. ■"
   ]
  },
  {
   "cell_type": "markdown",
   "metadata": {},
   "source": [
    "## 補足"
   ]
  },
  {
   "cell_type": "markdown",
   "metadata": {},
   "source": [
    "多クラス分類の場合は, クラス $C_{k}$ の事後確率は上記と同様に計算でき,\n",
    "\n",
    "$$\n",
    "\\begin{align}\n",
    "p(C_{k}|\\mathbb{x}) &=\\frac{\\exp(a_{k})}{\\displaystyle\\sum_{j}\\exp(a_{j})} \\\\\n",
    "&= \\mathrm{softmax}(a_{k}),\\\\\n",
    "\\\\\n",
    "a_{k} &= \\mathbf{w}_{k}^{T}\\mathbf{x}+w_{k0},\\\\\n",
    "\\\\\n",
    "\\mathbf{w}_{k} &= \\Sigma^{-1}\\boldsymbol{\\mu}_{k},\\\\\n",
    "w_{k0} &= -\\frac{1}{2}\\boldsymbol{\\mu}_{k}^{T}\\Sigma^{-1}\\boldsymbol{\\mu}_{k}+\\ln p(C_{k})\n",
    "\\end{align}\n",
    "$$\n",
    "\n",
    "となってそれぞれの決定境界はやはり $\\mathbf{x}$ について線形となる."
   ]
  },
  {
   "cell_type": "markdown",
   "metadata": {},
   "source": [
    "また, 「各 $p(\\mathbf{x}|C_{k})$ のガウス分布の共分散行列が共通」という制約を取り払った場合は決定境界は $\\mathbf{x}$ の2次関数となる."
   ]
  },
  {
   "cell_type": "markdown",
   "metadata": {},
   "source": [
    "# Q4-9. 確率的生成モデル(2): 連続値入力"
   ]
  },
  {
   "cell_type": "markdown",
   "metadata": {},
   "source": [
    "## 前置き: 確率的生成モデルによる分類(連続値入力)(2): 最尤解"
   ]
  },
  {
   "cell_type": "markdown",
   "metadata": {},
   "source": [
    "ひきつづき2クラス分類問題を考えよう.\n",
    "\n",
    "上記の2クラス分類問題において $\\mathbf{w},\\: w_{0}$ を決定するには, 以下のパラメーターを決定する必要がある:\n",
    "\n",
    "$$\n",
    "p(C_{1}), \\:p(C_{2}),\\: \\boldsymbol{\\mu}_{1},\\: \\boldsymbol{\\mu}_{2},\\: \\Sigma\n",
    "$$\n",
    "\n",
    "ここでは $p(C_{1}), \\:p(C_{2})$ を最尤推定によって決定しよう."
   ]
  },
  {
   "cell_type": "markdown",
   "metadata": {},
   "source": [
    "データセットを $X=\\{\\mathbf{x}_{1},...,\\mathbf{x}_{N}\\},\\: T=\\{t_{1},...,t_{N}\\}$ とおき, $t_{n}=1$ は $C_{1}$, $t_{n}=0$ は $C_{2}$ に対応するとする.\n",
    "\n",
    "また, $p(C_{1})=\\pi, \\:p(C_{2})=1-\\pi$ とおく.\n",
    "\n",
    "このとき, $C_{1}$, $C_{2}$ に属するデータそれぞれについて\n",
    "\n",
    "$$\n",
    "\\begin{align}\n",
    "p(\\mathbf{x}, C_{1}) &= p(C_{1})p(\\mathbf{x}|C_{1}) = \\pi\\mathcal{N}(\\mathbf{x}|\\boldsymbol{\\mu}_{1}, \\Sigma),\\\\\n",
    "p(\\mathbf{x}, C_{2}) &= p(C_{2})p(\\mathbf{x}|C_{2}) = (1-\\pi)\\mathcal{N}(\\mathbf{x}|\\boldsymbol{\\mu}_{2}, \\Sigma)\n",
    "\\end{align}\n",
    "$$\n",
    "\n",
    "となるので, データセットに対する尤度関数は\n",
    "\n",
    "$$\n",
    "p(T,X|\\pi,\\boldsymbol{\\mu}_{1},\\boldsymbol{\\mu}_{2},\\Sigma)\n",
    "=\n",
    "\\prod_{n=1}^{N}\n",
    "\\{\n",
    "\\pi\\mathcal{N}(\\mathbf{x}|\\boldsymbol{\\mu}_{1}, \\Sigma)\n",
    "\\}^{t_{n}}\n",
    "\\{\n",
    "(1-\\pi)\\mathcal{N}(\\mathbf{x}|\\boldsymbol{\\mu}_{2}, \\Sigma)\n",
    "\\}^{1-t_{n}}\n",
    "$$\n",
    "\n",
    "となる. 対数をとると\n",
    "\n",
    "$$\n",
    "\\ln p(T,X|\\pi,\\boldsymbol{\\mu}_{1},\\boldsymbol{\\mu}_{2},\\Sigma)\n",
    "=\n",
    "\\sum_{n=1}^{N}\n",
    "\\biggl\\{\n",
    "t_{n}\\left( \\ln\\pi+\\ln\\mathcal{N}(\\mathbf{x}|\\boldsymbol{\\mu}_{1}, \\Sigma) \\right)\n",
    "+\n",
    "(1-t_{n})\\left( \\ln(1-\\pi)+\\ln\\mathcal{N}(\\mathbf{x}|\\boldsymbol{\\mu}_{2}, \\Sigma) \\right)\n",
    "\\biggr\\}\n",
    "$$\n",
    "\n",
    "これを $\\pi$ について最大化しよう."
   ]
  },
  {
   "cell_type": "markdown",
   "metadata": {},
   "source": [
    "$$\n",
    "\\frac{\\partial\\ln p(T,X|\\pi,\\boldsymbol{\\mu}_{1},\\boldsymbol{\\mu}_{2},\\Sigma)}{\\partial\\pi}\n",
    "=\n",
    "\\sum_{n=1}^{N}\n",
    "\\left(\n",
    "\\frac{t_{n}}{\\pi} - \\frac{1-t_{n}}{1-\\pi}\n",
    "\\right)\n",
    "=\n",
    "\\frac{N_{1}}{\\pi} - \\frac{N_{2}}{1-\\pi}\n",
    "$$\n",
    "\n",
    "なので, これを $0$ とおくと $\\pi=\\displaystyle\\frac{N_{1}}{N_{1}+N_{2}}$ が得られる.\n",
    "\n",
    "つまり $p(C_{1})=\\displaystyle\\frac{N_{1}}{N_{1}+N_{2}},\\: p(C_{2})=\\displaystyle\\frac{N_{2}}{N_{1}+N_{2}}$ と最尤推定できる."
   ]
  },
  {
   "cell_type": "markdown",
   "metadata": {},
   "source": [
    "## 本題"
   ]
  },
  {
   "cell_type": "markdown",
   "metadata": {},
   "source": [
    "多クラス分類についても同様に考えよう. $p(C_{k})=\\pi_{k}\\:\\:\\left(0\\le\\pi_{k}\\le 1,\\:\\:\\sum_{k}\\pi_{k}=1\\right)$ とおくと, $C_{k}$ に属するデータについて\n",
    "\n",
    "$$\n",
    "p(\\mathbf{x}, C_{k}) = p(C_{k})p(\\mathbf{x}|C_{k}) = \\pi_{k}p(\\mathbf{x}|C_{k})\n",
    "$$\n",
    "\n",
    "となるから, データセットの尤度関数は\n",
    "\n",
    "$$\n",
    "p(T,X|\\Pi,P)\n",
    "=\n",
    "\\prod_{n=1}^{N}\\prod_{k=1}^{K}(\\pi_{k}p(\\mathbf{x}|C_{k}))^{t_{nk}}\n",
    "$$\n",
    "\n",
    "となる. ただし $t_{nk}$ はベクトル $\\mathbf{t}_{n}$ の $k$ 成分である.\n",
    "\n",
    "対数をとると\n",
    "\n",
    "$$\n",
    "\\ln p(T,X|\\Pi,P)\n",
    "=\n",
    "\\sum_{n=1}^{N}\\sum_{k=1}^{K}t_{nk}(\\ln\\pi_{k}+\\ln p(\\mathbf{x}|C_{k}))\n",
    "$$\n",
    "\n",
    "となる. これを等式制約下のラグランジュ未定乗数法によって最大化すればよい."
   ]
  },
  {
   "cell_type": "markdown",
   "metadata": {},
   "source": [
    "$$\n",
    "L(\\Pi, \\lambda) = \\ln p(T,X|\\Pi,P) + \\lambda \\left( \\sum_{k}\\pi_{k}-1 \\right)\n",
    "$$\n",
    "\n",
    "とおいて, $\\displaystyle\\frac{\\partial L}{\\partial\\Pi}=\\mathbf{0},\\:\\frac{\\partial L}{\\partial\\lambda}=0$ を解くと\n",
    "\n",
    "$$\n",
    "\\pi_{k} = \\frac{N_{k}}{N}\n",
    "$$\n",
    "\n",
    "が得られる. ■"
   ]
  },
  {
   "cell_type": "markdown",
   "metadata": {},
   "source": [
    "# Q4-10. 確率的生成モデル(2): 連続値入力"
   ]
  },
  {
   "cell_type": "markdown",
   "metadata": {},
   "source": [
    "## 前置き: 確率的生成モデルによる分類(連続値入力)(3): 最尤解のつづき"
   ]
  },
  {
   "cell_type": "markdown",
   "metadata": {},
   "source": [
    "ひきつづき2クラス分類問題を考え, 残りの $\\boldsymbol{\\mu}_{1},\\: \\boldsymbol{\\mu}_{2},\\: \\Sigma$ を最尤推定によって決定しよう."
   ]
  },
  {
   "cell_type": "markdown",
   "metadata": {},
   "source": [
    "準備として, スカラーをベクトルで微分したときの次の公式を確認しよう:\n",
    "\n",
    "$$\n",
    "(1)\\;\\;\\frac{\\partial \\mathbf{a}^{T} \\mathbf{x}}{\\partial \\mathbf{x}} = \\mathbf{a} \\\\\n",
    "(2)\\;\\;\\frac{\\partial \\mathbf{x}^{T} \\mathbf{a}}{\\partial \\mathbf{a}} = \\mathbf{a} \\\\\n",
    "(3)\\;\\;\\frac{\\partial \\mathbf{x}^{T} \\mathbf{a}}{\\partial \\mathbf{x}} = 2\\mathbf{x} \\\\\n",
    "(4)\\;\\;\\frac{\\partial \\mathbf{x}^{T} A \\mathbf{y}}{\\partial \\mathbf{x}} = A \\mathbf{y} \\\\\n",
    "(5)\\;\\;\\frac{\\partial \\mathbf{y}^{T} A \\mathbf{x}}{\\partial \\mathbf{x}} = (\\mathbf{y}^{T} A)^{T} \\\\\n",
    "(6)\\;\\;\\frac{\\partial \\mathbf{x}^{T} A \\mathbf{x}}{\\partial \\mathbf{x}} = (A+A^{T})\\mathbf{x} \\\\\n",
    "(7)\\;\\;\\frac{\\partial}{\\partial \\mathbf{x}}(\\mathbf{x}-\\mathbf{a})^{T}(\\mathbf{x}-\\mathbf{a})\n",
    "=2(\\mathbf{x}-\\mathbf{a})\n",
    "\\\\\n",
    "(8)\\;\\;\\frac{\\partial}{\\partial \\mathbf{x}}(A\\mathbf{x}-\\mathbf{b})^{T}(A\\mathbf{x}-\\mathbf{b})\n",
    "=2A^{T}(A\\mathbf{x}-\\mathbf{b})\n",
    "\\\\\n",
    "(9)\\;\\;\\frac{\\partial}{\\partial \\mathbf{x}}(A\\mathbf{x}-\\mathbf{b})^{T}C(A\\mathbf{x}-\\mathbf{b})\n",
    "=A^{T}(C+C^{T})(A\\mathbf{x}-\\mathbf{b})\n",
    "$$"
   ]
  },
  {
   "cell_type": "markdown",
   "metadata": {},
   "source": [
    "まず　$\\boldsymbol{\\mu}_{1}$ を最尤推定によって求めよう. 対数尤度のうち $\\boldsymbol{\\mu}_{1}$ に無関係な項目をまとめて定数とおくと\n",
    "\n",
    "$$\n",
    "\\begin{align}\n",
    "\\ln p(T,X|\\pi,\\boldsymbol{\\mu}_{1},\\boldsymbol{\\mu}_{2},\\Sigma)\n",
    "&=\n",
    "\\sum_{n=1}^{N}\n",
    "t_{n}\\ln\\mathcal{N}(\\mathbf{x}_{n}|\\boldsymbol{\\mu}_{1}, \\Sigma)\n",
    "+(定数)\\\\\n",
    "&=\n",
    "\\sum_{n=1}^{N}\n",
    "t_{n}\\left(\n",
    "-\\frac{1}{2}\\mathbf{x}_{n}^{T}\\Sigma^{-1}\\boldsymbol{\\mu}_{1}\n",
    "-\\frac{1}{2}\\boldsymbol{\\mu}_{1}^{T}\\Sigma^{-1}\\mathbf{x}_{n}\n",
    "+\\frac{1}{2}\\boldsymbol{\\mu}_{1}^{T}\\Sigma^{-1}\\boldsymbol{\\mu}_{1}\n",
    "\\right)\n",
    "+(定数)\\\\\n",
    "\\end{align}\n",
    "$$\n",
    "\n",
    "となる. したがって, 上記の公式(9)を利用すると, $\\Sigma$ が対称行列であることより\n",
    "\n",
    "$$\n",
    "\\frac{\\partial \\ln p(T,X|\\pi,\\boldsymbol{\\mu}_{1},\\boldsymbol{\\mu}_{2},\\Sigma)}{\\partial \\boldsymbol{\\mu}_{1}}\n",
    "=\n",
    "\\sum_{n=1}^{N}\n",
    "t_{n}\\left(\n",
    "-\\Sigma^{-1}\\boldsymbol{\\mu}_{1}\n",
    "+\\Sigma^{-1}\\mathbf{x}_{n}\n",
    "\\right)\n",
    "=\n",
    "\\sum_{n=1}^{N}t_{n}\\Sigma^{-1}(\\mathbf{x}_{n}-\\boldsymbol{\\mu}_{1})\n",
    "$$\n",
    "\n",
    "これを $\\mathbf{0}$ とおくと $\\displaystyle \\boldsymbol{\\mu}_{1} = \\frac{1}{N_{1}}\\sum_{n=1}^{N}t_{n}\\mathbf{x}_{n}$ が得られる.\n",
    "\n",
    "まったく同様にして $\\displaystyle \\boldsymbol{\\mu}_{2} = \\frac{1}{N_{2}}\\sum_{n=1}^{N}(1-t_{n})\\mathbf{x}_{n}$ も得られる."
   ]
  },
  {
   "cell_type": "markdown",
   "metadata": {},
   "source": [
    "最後に $\\Sigma$ について最適化しよう. 対数尤度のうち $\\Sigma$ に無関係な項目をまとめて定数とおくと"
   ]
  },
  {
   "cell_type": "markdown",
   "metadata": {},
   "source": [
    "$$\n",
    "\\begin{align}\n",
    "\\ln p(T,X|\\pi,\\boldsymbol{\\mu}_{1},\\boldsymbol{\\mu}_{2},\\Sigma)\n",
    "&=\n",
    "\\sum_{n=1}^{N}\n",
    "\\biggl\\{\n",
    "t_{n}\n",
    "\\left(\n",
    "-\\frac{1}{2}\\ln\\det\\Sigma\n",
    "-\\frac{1}{2}(\\mathbf{x}_{n}-\\boldsymbol{\\mu}_{1})^{T}\\Sigma^{-1}(\\mathbf{x}_{n}-\\boldsymbol{\\mu}_{1})\n",
    "\\right)\n",
    "+(1-t_{n})\n",
    "\\left(\n",
    "-\\frac{1}{2}\\ln\\det\\Sigma\n",
    "-\\frac{1}{2}(\\mathbf{x}_{n}-\\boldsymbol{\\mu}_{2})^{T}\\Sigma^{-1}(\\mathbf{x}_{n}-\\boldsymbol{\\mu}_{2})\n",
    "\\right)\n",
    "\\biggr\\}\n",
    "+(定数)\\\\\n",
    "&=-\\frac{N}{2}\\ln\\det\\Sigma-\\frac{N}{2}\\mathrm{Tr}(\\Sigma^{-1}S)\n",
    "\\end{align}\n",
    "$$"
   ]
  },
  {
   "cell_type": "markdown",
   "metadata": {},
   "source": [
    "となる. ただし\n",
    "\n",
    "$$\n",
    "\\begin{align}\n",
    "S&=\\frac{1}{N}(N_{1}S_{1}+N_{2}S_{2}),\\\\\n",
    "S_{1}&=\\frac{1}{N_{1}}\\sum_{n\\in C_{1}}(\\mathbf{x}_{n}-\\boldsymbol{\\mu}_{1})(\\mathbf{x}_{n}-\\boldsymbol{\\mu}_{1})^{T},\\\\\n",
    "S_{2}&=\\frac{1}{N_{2}}\\sum_{n\\in C_{2}}(\\mathbf{x}_{n}-\\boldsymbol{\\mu}_{2})(\\mathbf{x}_{n}-\\boldsymbol{\\mu}_{2})^{T}\n",
    "\\end{align}\n",
    "$$\n",
    "\n",
    "となる. ガウス分布に対する最尤解の標準的な結果を用いると(Q2-34.による), $\\Sigma=S$ となり, $\\Sigma$ は各クラス内共分散行列の重み付き平均となる."
   ]
  },
  {
   "cell_type": "markdown",
   "metadata": {},
   "source": [
    "##  本題"
   ]
  },
  {
   "cell_type": "markdown",
   "metadata": {},
   "source": [
    "多クラス分類についても同様の最尤推定を行おう.\n",
    "\n",
    "Q4-9.において $p(\\mathbf{x}|C_{k})=\\mathcal{N}(\\mathbf{x}|\\boldsymbol{\\mu}_{k}, \\Sigma)$ とおいたとき, データセットの尤度関数は\n",
    "\n",
    "$$\n",
    "\\begin{align}\n",
    "\\ln p(T,X|\\pi,M,\\Sigma)\n",
    "&=\n",
    "\\sum_{n=1}^{N}\n",
    "\\sum_{k=1}^{K}\n",
    "t_{nk}\n",
    "\\left(\n",
    "\\ln\\pi_{k}-\\frac{D}{2}\\ln(2\\pi)-\\frac{1}{2}\\ln\\det\\Sigma-\\frac{1}{2}(\\mathbf{x}_{n}-\\boldsymbol{\\mu}_{k})^{T}\\Sigma^{-1}(\\mathbf{x}_{n}-\\boldsymbol{\\mu}_{k})\n",
    "\\right)\n",
    "\\end{align}\n",
    "$$\n",
    "\n",
    "となる. ただし $M=(\\boldsymbol{\\mu}_{1},...,\\boldsymbol{\\mu}_{K})$ とおいた.\n",
    "\n",
    "$\\boldsymbol{\\mu}_{K}$ について最適化すると, 前置きと同様に\n",
    "\n",
    "$$\n",
    "\\frac{\\partial \\ln p(T,X|\\pi,M,\\Sigma)}{\\partial \\boldsymbol{\\mu}_{k}}\n",
    "=\n",
    "\\sum_{n=1}^{N}\n",
    "t_{nk}\\left(\n",
    "-\\Sigma^{-1}\\boldsymbol{\\mu}_{k}\n",
    "+\\Sigma^{-1}\\mathbf{x}_{n}\n",
    "\\right)\n",
    "=\n",
    "\\sum_{n=1}^{N}t_{nk}\\Sigma^{-1}(\\mathbf{x}_{n}-\\boldsymbol{\\mu}_{k})\n",
    "$$\n",
    "\n",
    "を $\\mathbf{0}$ とおくことで $\\displaystyle\\boldsymbol{\\mu}_{k}=\\frac{1}{N_{k}}\\sum_{n=1}^{N}t_{nk}\\mathbf{x}_{n}$ が得られる.\n",
    "\n",
    "次に $\\Sigma$ について最適化しよう. これも前置きと同様に\n",
    "\n",
    "$$\n",
    "\\begin{align}\n",
    "\\ln p(T,X|\\pi,M,\\Sigma) &= -\\frac{N}{2}\\ln\\det\\Sigma-\\frac{N}{2}\\mathrm{Tr}(\\Sigma^{-1}S), \\\\\n",
    "S&=\\sum_{k=1}^{K}\\frac{N_{k}}{N}S_{k},\\\\\n",
    "S_{k}&=\\frac{1}{N_{k}}\\sum_{n\\in C_{k}}(\\mathbf{x}_{n}-\\boldsymbol{\\mu}_{k})(\\mathbf{x}_{n}-\\boldsymbol{\\mu}_{k})^{T}\n",
    "\\end{align}\n",
    "$$\n",
    "\n",
    "とおけて, $\\displaystyle \\Sigma = S = \\sum_{k=1}^{K}\\frac{N_{k}}{N}S_{k} $ と最尤推定できる. ■"
   ]
  }
 ],
 "metadata": {
  "kernelspec": {
   "display_name": "Python 3",
   "language": "python",
   "name": "python3"
  },
  "language_info": {
   "codemirror_mode": {
    "name": "ipython",
    "version": 3
   },
   "file_extension": ".py",
   "mimetype": "text/x-python",
   "name": "python",
   "nbconvert_exporter": "python",
   "pygments_lexer": "ipython3",
   "version": "3.6.4"
  }
 },
 "nbformat": 4,
 "nbformat_minor": 2
}
