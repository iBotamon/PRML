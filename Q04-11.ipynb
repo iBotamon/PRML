{
 "cells": [
  {
   "cell_type": "markdown",
   "metadata": {},
   "source": [
    "# Q4-11. 確率的生成モデル(3): 離散値入力"
   ]
  },
  {
   "cell_type": "markdown",
   "metadata": {},
   "source": [
    "## 前置き: 確率的生成モデルによる分類(離散値入力)"
   ]
  },
  {
   "cell_type": "markdown",
   "metadata": {},
   "source": [
    "$\\mathbf{x}=(x_{1},...,x_{D})$ であって $x_{i}\\in\\{0,1\\}$ である場合に, 確率的生成モデルによって多クラス分類を行うことを考えよう.\n",
    "\n",
    "ここではナイーブベイズを仮定する. つまり各特徴値 $x_{1},...,x_{D}$ はクラス $C_{k}$ についての条件下で条件つき独立であると仮定する.\n",
    "\n",
    "すると $p(\\mathbf{x}|C_{k})$ は\n",
    "\n",
    "$$\n",
    "p(\\mathbf{x}|C_{k}) = \\prod_{i=1}^{D} \\mu_{ki}^{x_{i}}(1-\\mu_{ki})^{1-x_{i}}\n",
    "$$\n",
    "\n",
    "のように定式化できる.\n",
    "\n",
    "これを\n",
    "\n",
    "$$\n",
    "\\begin{align}\n",
    "p(C_{k}|\\mathbf{x}) &=\\frac{\\exp(a_{k})}{\\displaystyle\\sum_{j}\\exp(a_{j})}=\\mathrm{softmax}(a_{k}),\\\\\n",
    "\\\\\n",
    "a_{k} &= \\ln p(\\mathbf{x}|C_{k})p(C_{k})\\\\\n",
    "\\end{align}\n",
    "$$\n",
    "\n",
    "に代入すると,\n",
    "\n",
    "$$\n",
    "a_{k} = \\sum_{i=1}^{D} \\{  x_{i}\\ln\\mu_{ki}+(1-x_{i})\\ln(1-\\mu_{ki})\\} +\\ln p(C_{k})\n",
    "$$\n",
    "\n",
    "となり, これは $x_{i}$ について線形となる."
   ]
  },
  {
   "cell_type": "markdown",
   "metadata": {},
   "source": [
    "## 本題"
   ]
  },
  {
   "cell_type": "markdown",
   "metadata": {},
   "source": [
    "次に特徴ベクトル $\\boldsymbol{\\phi}$ の各成分のとる状態を $2$ 個から $L$ 個に拡張しよう.\n",
    "\n",
    "つまり $\\boldsymbol{\\phi} = (\\boldsymbol{\\phi}_{1},...,\\boldsymbol{\\phi}_{M})$ であって $\\boldsymbol{\\phi}_{i}$ は $L$ 次元の one-hot vector であるような状況を考える.\n",
    "\n",
    "クラス $C_{k}$ に対して $\\boldsymbol{\\phi}_{1},...,\\boldsymbol{\\phi}_{M}$ が独立であるというナイーブベイズを仮定すれば\n",
    "\n",
    "$$\n",
    "p(\\boldsymbol{\\phi}|C_{k}) = \\prod_{i=1}^{M}\\prod_{l=1}^{L} \\mu_{il}^{\\phi_{il}}\n",
    "$$\n",
    "\n",
    "とおける. これを\n",
    "\n",
    "$$\n",
    "\\begin{align}\n",
    "p(C_{k}|\\boldsymbol{\\phi}) &=\\frac{\\exp(a_{k})}{\\displaystyle\\sum_{j}\\exp(a_{j})}=\\mathrm{softmax}(a_{k}),\\\\\n",
    "\\\\\n",
    "a_{k} &= \\ln p(\\boldsymbol{\\phi}|C_{k})p(C_{k})\\\\\n",
    "\\end{align}\n",
    "$$\n",
    "\n",
    "に代入すると,\n",
    "\n",
    "$$\n",
    "a_{k}=\\ln p(C_{k}) + \\prod_{i=1}^{M}\\prod_{l=1}^{L}\\phi_{il}\\ln\\mu_{il}\n",
    "$$\n",
    "\n",
    "となり, これは $\\boldsymbol{\\phi}$ の各成分に対して線形となっている. ■"
   ]
  }
 ],
 "metadata": {
  "kernelspec": {
   "display_name": "Python 3",
   "language": "python",
   "name": "python3"
  },
  "language_info": {
   "codemirror_mode": {
    "name": "ipython",
    "version": 3
   },
   "file_extension": ".py",
   "mimetype": "text/x-python",
   "name": "python",
   "nbconvert_exporter": "python",
   "pygments_lexer": "ipython3",
   "version": "3.6.4"
  }
 },
 "nbformat": 4,
 "nbformat_minor": 2
}
